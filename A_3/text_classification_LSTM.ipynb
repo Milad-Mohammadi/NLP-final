{
 "cells": [
  {
   "cell_type": "code",
   "execution_count": 7,
   "id": "375572cf",
   "metadata": {
    "pycharm": {
     "name": "#%%\n"
    }
   },
   "outputs": [
    {
     "name": "stdout",
     "output_type": "stream",
     "text": [
      "Requirement already satisfied: tensorflow in /home/milad/.config/JetBrains/DataSpell2022.1/projects/workspace/venv/lib/python3.10/site-packages (2.9.1)\r\n",
      "Requirement already satisfied: opt-einsum>=2.3.2 in /home/milad/.config/JetBrains/DataSpell2022.1/projects/workspace/venv/lib/python3.10/site-packages (from tensorflow) (3.3.0)\r\n",
      "Requirement already satisfied: libclang>=13.0.0 in /home/milad/.config/JetBrains/DataSpell2022.1/projects/workspace/venv/lib/python3.10/site-packages (from tensorflow) (14.0.1)\r\n",
      "Requirement already satisfied: astunparse>=1.6.0 in /home/milad/.config/JetBrains/DataSpell2022.1/projects/workspace/venv/lib/python3.10/site-packages (from tensorflow) (1.6.3)\r\n",
      "Requirement already satisfied: tensorboard<2.10,>=2.9 in /home/milad/.config/JetBrains/DataSpell2022.1/projects/workspace/venv/lib/python3.10/site-packages (from tensorflow) (2.9.1)\r\n",
      "Requirement already satisfied: h5py>=2.9.0 in /home/milad/.config/JetBrains/DataSpell2022.1/projects/workspace/venv/lib/python3.10/site-packages (from tensorflow) (3.7.0)\r\n",
      "Requirement already satisfied: keras-preprocessing>=1.1.1 in /home/milad/.config/JetBrains/DataSpell2022.1/projects/workspace/venv/lib/python3.10/site-packages (from tensorflow) (1.1.2)\r\n",
      "Requirement already satisfied: flatbuffers<2,>=1.12 in /home/milad/.config/JetBrains/DataSpell2022.1/projects/workspace/venv/lib/python3.10/site-packages (from tensorflow) (1.12)\r\n",
      "Requirement already satisfied: typing-extensions>=3.6.6 in /home/milad/.config/JetBrains/DataSpell2022.1/projects/workspace/venv/lib/python3.10/site-packages (from tensorflow) (4.3.0)\r\n",
      "Requirement already satisfied: google-pasta>=0.1.1 in /home/milad/.config/JetBrains/DataSpell2022.1/projects/workspace/venv/lib/python3.10/site-packages (from tensorflow) (0.2.0)\r\n",
      "Requirement already satisfied: grpcio<2.0,>=1.24.3 in /home/milad/.config/JetBrains/DataSpell2022.1/projects/workspace/venv/lib/python3.10/site-packages (from tensorflow) (1.47.0)\r\n",
      "Requirement already satisfied: termcolor>=1.1.0 in /home/milad/.config/JetBrains/DataSpell2022.1/projects/workspace/venv/lib/python3.10/site-packages (from tensorflow) (1.1.0)\r\n",
      "Requirement already satisfied: gast<=0.4.0,>=0.2.1 in /home/milad/.config/JetBrains/DataSpell2022.1/projects/workspace/venv/lib/python3.10/site-packages (from tensorflow) (0.4.0)\r\n",
      "Requirement already satisfied: protobuf<3.20,>=3.9.2 in /home/milad/.config/JetBrains/DataSpell2022.1/projects/workspace/venv/lib/python3.10/site-packages (from tensorflow) (3.19.4)\r\n",
      "Requirement already satisfied: tensorflow-io-gcs-filesystem>=0.23.1 in /home/milad/.config/JetBrains/DataSpell2022.1/projects/workspace/venv/lib/python3.10/site-packages (from tensorflow) (0.26.0)\r\n",
      "Requirement already satisfied: keras<2.10.0,>=2.9.0rc0 in /home/milad/.config/JetBrains/DataSpell2022.1/projects/workspace/venv/lib/python3.10/site-packages (from tensorflow) (2.9.0)\r\n",
      "Requirement already satisfied: packaging in /home/milad/.config/JetBrains/DataSpell2022.1/projects/workspace/venv/lib/python3.10/site-packages (from tensorflow) (21.3)\r\n",
      "Requirement already satisfied: wrapt>=1.11.0 in /home/milad/.config/JetBrains/DataSpell2022.1/projects/workspace/venv/lib/python3.10/site-packages (from tensorflow) (1.14.1)\r\n",
      "Requirement already satisfied: numpy>=1.20 in /home/milad/.config/JetBrains/DataSpell2022.1/projects/workspace/venv/lib/python3.10/site-packages (from tensorflow) (1.23.1)\r\n",
      "Requirement already satisfied: absl-py>=1.0.0 in /home/milad/.config/JetBrains/DataSpell2022.1/projects/workspace/venv/lib/python3.10/site-packages (from tensorflow) (1.1.0)\r\n",
      "Requirement already satisfied: six>=1.12.0 in /home/milad/.config/JetBrains/DataSpell2022.1/projects/workspace/venv/lib/python3.10/site-packages (from tensorflow) (1.16.0)\r\n",
      "Requirement already satisfied: tensorflow-estimator<2.10.0,>=2.9.0rc0 in /home/milad/.config/JetBrains/DataSpell2022.1/projects/workspace/venv/lib/python3.10/site-packages (from tensorflow) (2.9.0)\r\n",
      "Requirement already satisfied: setuptools in /home/milad/.config/JetBrains/DataSpell2022.1/projects/workspace/venv/lib/python3.10/site-packages (from tensorflow) (60.2.0)\r\n",
      "Requirement already satisfied: wheel<1.0,>=0.23.0 in /home/milad/.config/JetBrains/DataSpell2022.1/projects/workspace/venv/lib/python3.10/site-packages (from astunparse>=1.6.0->tensorflow) (0.37.1)\r\n",
      "Requirement already satisfied: tensorboard-data-server<0.7.0,>=0.6.0 in /home/milad/.config/JetBrains/DataSpell2022.1/projects/workspace/venv/lib/python3.10/site-packages (from tensorboard<2.10,>=2.9->tensorflow) (0.6.1)\r\n",
      "Requirement already satisfied: tensorboard-plugin-wit>=1.6.0 in /home/milad/.config/JetBrains/DataSpell2022.1/projects/workspace/venv/lib/python3.10/site-packages (from tensorboard<2.10,>=2.9->tensorflow) (1.8.1)\r\n",
      "Requirement already satisfied: markdown>=2.6.8 in /home/milad/.config/JetBrains/DataSpell2022.1/projects/workspace/venv/lib/python3.10/site-packages (from tensorboard<2.10,>=2.9->tensorflow) (3.3.7)\r\n",
      "Requirement already satisfied: google-auth<3,>=1.6.3 in /home/milad/.config/JetBrains/DataSpell2022.1/projects/workspace/venv/lib/python3.10/site-packages (from tensorboard<2.10,>=2.9->tensorflow) (2.9.1)\r\n",
      "Requirement already satisfied: werkzeug>=1.0.1 in /home/milad/.config/JetBrains/DataSpell2022.1/projects/workspace/venv/lib/python3.10/site-packages (from tensorboard<2.10,>=2.9->tensorflow) (2.1.2)\r\n",
      "Requirement already satisfied: google-auth-oauthlib<0.5,>=0.4.1 in /home/milad/.config/JetBrains/DataSpell2022.1/projects/workspace/venv/lib/python3.10/site-packages (from tensorboard<2.10,>=2.9->tensorflow) (0.4.6)\r\n",
      "Requirement already satisfied: requests<3,>=2.21.0 in /home/milad/.config/JetBrains/DataSpell2022.1/projects/workspace/venv/lib/python3.10/site-packages (from tensorboard<2.10,>=2.9->tensorflow) (2.28.1)\r\n",
      "Requirement already satisfied: pyparsing!=3.0.5,>=2.0.2 in /home/milad/.config/JetBrains/DataSpell2022.1/projects/workspace/venv/lib/python3.10/site-packages (from packaging->tensorflow) (3.0.9)\r\n",
      "Requirement already satisfied: pyasn1-modules>=0.2.1 in /home/milad/.config/JetBrains/DataSpell2022.1/projects/workspace/venv/lib/python3.10/site-packages (from google-auth<3,>=1.6.3->tensorboard<2.10,>=2.9->tensorflow) (0.2.8)\r\n",
      "Requirement already satisfied: cachetools<6.0,>=2.0.0 in /home/milad/.config/JetBrains/DataSpell2022.1/projects/workspace/venv/lib/python3.10/site-packages (from google-auth<3,>=1.6.3->tensorboard<2.10,>=2.9->tensorflow) (5.2.0)\r\n",
      "Requirement already satisfied: rsa<5,>=3.1.4 in /home/milad/.config/JetBrains/DataSpell2022.1/projects/workspace/venv/lib/python3.10/site-packages (from google-auth<3,>=1.6.3->tensorboard<2.10,>=2.9->tensorflow) (4.8)\r\n",
      "Requirement already satisfied: requests-oauthlib>=0.7.0 in /home/milad/.config/JetBrains/DataSpell2022.1/projects/workspace/venv/lib/python3.10/site-packages (from google-auth-oauthlib<0.5,>=0.4.1->tensorboard<2.10,>=2.9->tensorflow) (1.3.1)\r\n",
      "Requirement already satisfied: urllib3<1.27,>=1.21.1 in /home/milad/.config/JetBrains/DataSpell2022.1/projects/workspace/venv/lib/python3.10/site-packages (from requests<3,>=2.21.0->tensorboard<2.10,>=2.9->tensorflow) (1.26.10)\r\n",
      "Requirement already satisfied: certifi>=2017.4.17 in /home/milad/.config/JetBrains/DataSpell2022.1/projects/workspace/venv/lib/python3.10/site-packages (from requests<3,>=2.21.0->tensorboard<2.10,>=2.9->tensorflow) (2022.6.15)\r\n",
      "Requirement already satisfied: idna<4,>=2.5 in /home/milad/.config/JetBrains/DataSpell2022.1/projects/workspace/venv/lib/python3.10/site-packages (from requests<3,>=2.21.0->tensorboard<2.10,>=2.9->tensorflow) (3.3)\r\n",
      "Requirement already satisfied: charset-normalizer<3,>=2 in /home/milad/.config/JetBrains/DataSpell2022.1/projects/workspace/venv/lib/python3.10/site-packages (from requests<3,>=2.21.0->tensorboard<2.10,>=2.9->tensorflow) (2.1.0)\r\n",
      "Requirement already satisfied: pyasn1<0.5.0,>=0.4.6 in /home/milad/.config/JetBrains/DataSpell2022.1/projects/workspace/venv/lib/python3.10/site-packages (from pyasn1-modules>=0.2.1->google-auth<3,>=1.6.3->tensorboard<2.10,>=2.9->tensorflow) (0.4.8)\r\n",
      "Requirement already satisfied: oauthlib>=3.0.0 in /home/milad/.config/JetBrains/DataSpell2022.1/projects/workspace/venv/lib/python3.10/site-packages (from requests-oauthlib>=0.7.0->google-auth-oauthlib<0.5,>=0.4.1->tensorboard<2.10,>=2.9->tensorflow) (3.2.0)\r\n",
      "\u001B[33mWARNING: You are using pip version 21.3.1; however, version 22.1.2 is available.\r\n",
      "You should consider upgrading via the '/home/milad/.config/JetBrains/DataSpell2022.1/projects/workspace/venv/bin/python -m pip install --upgrade pip' command.\u001B[0m\r\n",
      "Requirement already satisfied: keras in /home/milad/.config/JetBrains/DataSpell2022.1/projects/workspace/venv/lib/python3.10/site-packages (2.9.0)\r\n",
      "\u001B[33mWARNING: You are using pip version 21.3.1; however, version 22.1.2 is available.\r\n",
      "You should consider upgrading via the '/home/milad/.config/JetBrains/DataSpell2022.1/projects/workspace/venv/bin/python -m pip install --upgrade pip' command.\u001B[0m\r\n",
      "Requirement already satisfied: pandas in /home/milad/.config/JetBrains/DataSpell2022.1/projects/workspace/venv/lib/python3.10/site-packages (1.4.3)\r\n",
      "Requirement already satisfied: pytz>=2020.1 in /home/milad/.config/JetBrains/DataSpell2022.1/projects/workspace/venv/lib/python3.10/site-packages (from pandas) (2022.1)\r\n",
      "Requirement already satisfied: numpy>=1.21.0 in /home/milad/.config/JetBrains/DataSpell2022.1/projects/workspace/venv/lib/python3.10/site-packages (from pandas) (1.23.1)\r\n",
      "Requirement already satisfied: python-dateutil>=2.8.1 in /home/milad/.config/JetBrains/DataSpell2022.1/projects/workspace/venv/lib/python3.10/site-packages (from pandas) (2.8.2)\r\n",
      "Requirement already satisfied: six>=1.5 in /home/milad/.config/JetBrains/DataSpell2022.1/projects/workspace/venv/lib/python3.10/site-packages (from python-dateutil>=2.8.1->pandas) (1.16.0)\r\n",
      "\u001B[33mWARNING: You are using pip version 21.3.1; however, version 22.1.2 is available.\r\n",
      "You should consider upgrading via the '/home/milad/.config/JetBrains/DataSpell2022.1/projects/workspace/venv/bin/python -m pip install --upgrade pip' command.\u001B[0m\r\n",
      "Requirement already satisfied: hazm in /home/milad/.config/JetBrains/DataSpell2022.1/projects/workspace/venv/lib/python3.10/site-packages (0.7.0)\r\n",
      "Requirement already satisfied: libwapiti>=0.2.1 in /home/milad/.config/JetBrains/DataSpell2022.1/projects/workspace/venv/lib/python3.10/site-packages (from hazm) (0.2.1)\r\n",
      "Requirement already satisfied: nltk==3.3 in /home/milad/.config/JetBrains/DataSpell2022.1/projects/workspace/venv/lib/python3.10/site-packages (from hazm) (3.3)\r\n",
      "Requirement already satisfied: six in /home/milad/.config/JetBrains/DataSpell2022.1/projects/workspace/venv/lib/python3.10/site-packages (from nltk==3.3->hazm) (1.16.0)\r\n",
      "\u001B[33mWARNING: You are using pip version 21.3.1; however, version 22.1.2 is available.\r\n",
      "You should consider upgrading via the '/home/milad/.config/JetBrains/DataSpell2022.1/projects/workspace/venv/bin/python -m pip install --upgrade pip' command.\u001B[0m\r\n",
      "Requirement already satisfied: sklearn in /home/milad/.config/JetBrains/DataSpell2022.1/projects/workspace/venv/lib/python3.10/site-packages (0.0)\r\n",
      "Requirement already satisfied: scikit-learn in /home/milad/.config/JetBrains/DataSpell2022.1/projects/workspace/venv/lib/python3.10/site-packages (from sklearn) (1.1.1)\r\n",
      "Requirement already satisfied: joblib>=1.0.0 in /home/milad/.config/JetBrains/DataSpell2022.1/projects/workspace/venv/lib/python3.10/site-packages (from scikit-learn->sklearn) (1.1.0)\r\n",
      "Requirement already satisfied: scipy>=1.3.2 in /home/milad/.config/JetBrains/DataSpell2022.1/projects/workspace/venv/lib/python3.10/site-packages (from scikit-learn->sklearn) (1.8.1)\r\n",
      "Requirement already satisfied: threadpoolctl>=2.0.0 in /home/milad/.config/JetBrains/DataSpell2022.1/projects/workspace/venv/lib/python3.10/site-packages (from scikit-learn->sklearn) (3.1.0)\r\n",
      "Requirement already satisfied: numpy>=1.17.3 in /home/milad/.config/JetBrains/DataSpell2022.1/projects/workspace/venv/lib/python3.10/site-packages (from scikit-learn->sklearn) (1.23.1)\r\n",
      "\u001B[33mWARNING: You are using pip version 21.3.1; however, version 22.1.2 is available.\r\n",
      "You should consider upgrading via the '/home/milad/.config/JetBrains/DataSpell2022.1/projects/workspace/venv/bin/python -m pip install --upgrade pip' command.\u001B[0m\r\n",
      "Requirement already satisfied: matplotlib in /home/milad/.config/JetBrains/DataSpell2022.1/projects/workspace/venv/lib/python3.10/site-packages (3.5.2)\r\n",
      "Requirement already satisfied: packaging>=20.0 in /home/milad/.config/JetBrains/DataSpell2022.1/projects/workspace/venv/lib/python3.10/site-packages (from matplotlib) (21.3)\r\n",
      "Requirement already satisfied: kiwisolver>=1.0.1 in /home/milad/.config/JetBrains/DataSpell2022.1/projects/workspace/venv/lib/python3.10/site-packages (from matplotlib) (1.4.3)\r\n",
      "Requirement already satisfied: pyparsing>=2.2.1 in /home/milad/.config/JetBrains/DataSpell2022.1/projects/workspace/venv/lib/python3.10/site-packages (from matplotlib) (3.0.9)\r\n",
      "Requirement already satisfied: numpy>=1.17 in /home/milad/.config/JetBrains/DataSpell2022.1/projects/workspace/venv/lib/python3.10/site-packages (from matplotlib) (1.23.1)\r\n",
      "Requirement already satisfied: cycler>=0.10 in /home/milad/.config/JetBrains/DataSpell2022.1/projects/workspace/venv/lib/python3.10/site-packages (from matplotlib) (0.11.0)\r\n",
      "Requirement already satisfied: python-dateutil>=2.7 in /home/milad/.config/JetBrains/DataSpell2022.1/projects/workspace/venv/lib/python3.10/site-packages (from matplotlib) (2.8.2)\r\n",
      "Requirement already satisfied: pillow>=6.2.0 in /home/milad/.config/JetBrains/DataSpell2022.1/projects/workspace/venv/lib/python3.10/site-packages (from matplotlib) (9.2.0)\r\n",
      "Requirement already satisfied: fonttools>=4.22.0 in /home/milad/.config/JetBrains/DataSpell2022.1/projects/workspace/venv/lib/python3.10/site-packages (from matplotlib) (4.34.4)\r\n",
      "Requirement already satisfied: six>=1.5 in /home/milad/.config/JetBrains/DataSpell2022.1/projects/workspace/venv/lib/python3.10/site-packages (from python-dateutil>=2.7->matplotlib) (1.16.0)\r\n",
      "\u001B[33mWARNING: You are using pip version 21.3.1; however, version 22.1.2 is available.\r\n",
      "You should consider upgrading via the '/home/milad/.config/JetBrains/DataSpell2022.1/projects/workspace/venv/bin/python -m pip install --upgrade pip' command.\u001B[0m\r\n",
      "Collecting seaborn\r\n",
      "  Using cached seaborn-0.11.2-py3-none-any.whl (292 kB)\r\n",
      "Requirement already satisfied: scipy>=1.0 in /home/milad/.config/JetBrains/DataSpell2022.1/projects/workspace/venv/lib/python3.10/site-packages (from seaborn) (1.8.1)\r\n",
      "Requirement already satisfied: matplotlib>=2.2 in /home/milad/.config/JetBrains/DataSpell2022.1/projects/workspace/venv/lib/python3.10/site-packages (from seaborn) (3.5.2)\r\n",
      "Requirement already satisfied: numpy>=1.15 in /home/milad/.config/JetBrains/DataSpell2022.1/projects/workspace/venv/lib/python3.10/site-packages (from seaborn) (1.23.1)\r\n",
      "Requirement already satisfied: pandas>=0.23 in /home/milad/.config/JetBrains/DataSpell2022.1/projects/workspace/venv/lib/python3.10/site-packages (from seaborn) (1.4.3)\r\n",
      "Requirement already satisfied: kiwisolver>=1.0.1 in /home/milad/.config/JetBrains/DataSpell2022.1/projects/workspace/venv/lib/python3.10/site-packages (from matplotlib>=2.2->seaborn) (1.4.3)\r\n",
      "Requirement already satisfied: fonttools>=4.22.0 in /home/milad/.config/JetBrains/DataSpell2022.1/projects/workspace/venv/lib/python3.10/site-packages (from matplotlib>=2.2->seaborn) (4.34.4)\r\n",
      "Requirement already satisfied: cycler>=0.10 in /home/milad/.config/JetBrains/DataSpell2022.1/projects/workspace/venv/lib/python3.10/site-packages (from matplotlib>=2.2->seaborn) (0.11.0)\r\n",
      "Requirement already satisfied: pyparsing>=2.2.1 in /home/milad/.config/JetBrains/DataSpell2022.1/projects/workspace/venv/lib/python3.10/site-packages (from matplotlib>=2.2->seaborn) (3.0.9)\r\n",
      "Requirement already satisfied: python-dateutil>=2.7 in /home/milad/.config/JetBrains/DataSpell2022.1/projects/workspace/venv/lib/python3.10/site-packages (from matplotlib>=2.2->seaborn) (2.8.2)\r\n",
      "Requirement already satisfied: packaging>=20.0 in /home/milad/.config/JetBrains/DataSpell2022.1/projects/workspace/venv/lib/python3.10/site-packages (from matplotlib>=2.2->seaborn) (21.3)\r\n",
      "Requirement already satisfied: pillow>=6.2.0 in /home/milad/.config/JetBrains/DataSpell2022.1/projects/workspace/venv/lib/python3.10/site-packages (from matplotlib>=2.2->seaborn) (9.2.0)\r\n",
      "Requirement already satisfied: pytz>=2020.1 in /home/milad/.config/JetBrains/DataSpell2022.1/projects/workspace/venv/lib/python3.10/site-packages (from pandas>=0.23->seaborn) (2022.1)\r\n",
      "Requirement already satisfied: six>=1.5 in /home/milad/.config/JetBrains/DataSpell2022.1/projects/workspace/venv/lib/python3.10/site-packages (from python-dateutil>=2.7->matplotlib>=2.2->seaborn) (1.16.0)\r\n",
      "Installing collected packages: seaborn\r\n",
      "Successfully installed seaborn-0.11.2\r\n",
      "\u001B[33mWARNING: You are using pip version 21.3.1; however, version 22.1.2 is available.\r\n",
      "You should consider upgrading via the '/home/milad/.config/JetBrains/DataSpell2022.1/projects/workspace/venv/bin/python -m pip install --upgrade pip' command.\u001B[0m\r\n"
     ]
    }
   ],
   "source": [
    "!pip install tensorflow\n",
    "!pip install keras\n",
    "!pip install pandas\n",
    "!pip install hazm\n",
    "!pip install sklearn\n",
    "!pip install matplotlib\n",
    "!pip install seaborn"
   ]
  },
  {
   "cell_type": "code",
   "execution_count": 3,
   "id": "c5aad9fe",
   "metadata": {
    "pycharm": {
     "name": "#%%\n"
    }
   },
   "outputs": [
    {
     "name": "stderr",
     "output_type": "stream",
     "text": [
      "2022-07-15 13:03:56.377715: W tensorflow/stream_executor/platform/default/dso_loader.cc:64] Could not load dynamic library 'libcudart.so.11.0'; dlerror: libcudart.so.11.0: cannot open shared object file: No such file or directory\n",
      "2022-07-15 13:03:56.377734: I tensorflow/stream_executor/cuda/cudart_stub.cc:29] Ignore above cudart dlerror if you do not have a GPU set up on your machine.\n"
     ]
    }
   ],
   "source": [
    "import pandas as pd\n",
    "from hazm import *\n",
    "import tensorflow as tf\n",
    "from keras.models import Sequential, save_model\n",
    "from keras.layers import Dense, Embedding, LSTM, SpatialDropout1D\n",
    "from sklearn.model_selection import train_test_split\n",
    "import numpy as np\n",
    "import re"
   ]
  },
  {
   "cell_type": "code",
   "execution_count": 4,
   "id": "f9a89b4f",
   "metadata": {
    "pycharm": {
     "name": "#%%\n"
    }
   },
   "outputs": [
    {
     "name": "stdout",
     "output_type": "stream",
     "text": [
      "     Cat                                               Text\n",
      "0  adabh  جاودانگي در زندگي گروهي از طريق هنر نگاهي به ن...\n",
      "1  adabh  رويدادهاي هنري جهان نمايشگاه هنر در خدمت ديكتا...\n",
      "2  adabh  برديوار نگارخانه ها گالري گلستان: نمايشگاه طرح...\n",
      "3  ejtem  بازي را جدي بگيريم مطالعه اي مقدماتي پيرامون ن...\n",
      "4  elmfa  تخته سياه و غباري كه سترده نمي شود... اشاره; ب...\n"
     ]
    }
   ],
   "source": [
    "dataset = pd.read_csv(\"hamshahri.csv\")\n",
    "print(dataset.head())"
   ]
  },
  {
   "cell_type": "code",
   "execution_count": 5,
   "outputs": [],
   "source": [
    "with open (\"fa_stop_words.txt\", \"r\") as fa_stop_words:\n",
    "    stopwords = fa_stop_words.read().splitlines()\n",
    "\n",
    "normalizer = Normalizer()\n",
    "lemmatizer = Lemmatizer()\n",
    "stemmer = Stemmer()\n",
    "\n",
    "def preprocessing(input_text):\n",
    "    input_text = re.sub('<[^<]+?>', '', input_text)\n",
    "    input_text = ''.join(c for c in input_text if not c.isdigit())\n",
    "    input_text = normalizer.normalize(input_text)\n",
    "    input_text = ' '.join(word for word in input_text.split() if word not in stopwords)\n",
    "    return input_text"
   ],
   "metadata": {
    "collapsed": false,
    "pycharm": {
     "name": "#%%\n"
    }
   }
  },
  {
   "cell_type": "code",
   "execution_count": 7,
   "outputs": [
    {
     "data": {
      "text/plain": "0         جاودانگی زندگی هنر نگاهی نمایشگاه آثار هنری اح...\n1         رویدادهای هنری جهان نمایشگاه هنر خدمت دیکتاتور...\n2         بردیوار نگارخانه‌ها گالری گلستان: نمایشگاه طرح...\n3         بازی مطالعه‌ای مقدماتی نقش بازی زندگی اجتماعی ...\n4         تخته سیاه غباری سترده اشاره; رغم گسترش توسعه ر...\n                                ...                        \n165228    نماینده فدراسیون جهانی والیبال ایران نظر شایست...\n165229    شکست نامداران تکواندودر پیکارهای برتر لیگ گروه...\n165230    ورزشگاه دانشگاه آزاد تهران گروه ورزشی: تربیت ب...\n165231    رئیس فدراسیون پزشکی انتخاب گروه ورزشی: مجمع عم...\n165232    نتایج هفته یازدهم وزنه باشگاهها گروه ورزشی: هف...\nName: Text, Length: 165233, dtype: object"
     },
     "execution_count": 7,
     "metadata": {},
     "output_type": "execute_result"
    }
   ],
   "source": [
    "dataset[\"Text\"].apply(lambda text: preprocessing(text))"
   ],
   "metadata": {
    "collapsed": false,
    "pycharm": {
     "name": "#%%\n"
    }
   }
  },
  {
   "cell_type": "code",
   "execution_count": 8,
   "outputs": [
    {
     "name": "stdout",
     "output_type": "stream",
     "text": [
      "Dataset has 165233 rows.\n"
     ]
    }
   ],
   "source": [
    "data_len = dataset.shape[0]\n",
    "print('Dataset has {} rows.'.format(data_len))"
   ],
   "metadata": {
    "collapsed": false,
    "pycharm": {
     "name": "#%%\n"
    }
   }
  },
  {
   "cell_type": "code",
   "execution_count": 9,
   "outputs": [
    {
     "data": {
      "text/plain": "'جاودانگي در زندگي گروهي از طريق هنر نگاهي به نمايشگاه آثار هنري احمد طباطبايي موضوع آثار طباطبايي مورچگان هستند ولي در باطن چنين ظاهري، اين انسانهاهستند كه در هيبتي حشره گونه در تابلوهاي نقاشي نمايشگر گوشه هايي از زندگي خود هستند. مورچه اي را ديده ايم كه بار سنگين خودرا به دوش مي كشد و در بين راه خسته مي شود يا در نتيجه پيش آمدن يك حادثه اتفاقي بار از دستش رها شده و براي گريز از خطر آن را مي گذارد و فرار مي كند. اما ساعتي بعد به همان نقطه برمي گردد و بار را دوباره به دوش كشيده نفس زنان و عرق ريزان آن را به منزل او مي رساند مي داند كه اگر در ميان راه از بين رفت، يك مورچه ديگر با همان استعداد غريزه عملي را كه او شروع كرده به پايان مي رساند. پس او مي داند كه بعد از خودش نسل آينده اي وجود دارد كه بايد از مزاياي آن استفاده نمايد. چه داستان درازي، انتها و پاياني هم ميليونها ندارد سال گذشته، ميلياردها سال ديگر خواهد گذشت وهمين برنامه ميليونها بار ديگر تجديد مي شود. پس بايد گفت سير حيات و تكامل پايان ناپذير است. اسرار جهان پاياني ندارد. پس اگر بخواهيم به يك چيز پايان ناپذير برسيم چون انتهايي در بين نيست، به جايي نمي رسيم. (از كتاب مورچگان، نوشته موريس مترلينگ )مورچگان در تابلوهاي نقاشي احمد طباطبايي جايگاه ويژه اي دارند. در نمايشگاهي كه از آثار اين هنرمند (اول تا 23 خرداد ) در نگارخانه برگ برپا شد 36 اثر با اين موضوع به نمايش عمومي درآمد. طباطبايي در مدت 18 سالي كه به نقاشي مي پردازد همواره بر روي موضوع مورچگان كار كرده است. وي درباره علت انتخاب چنين سوژه اي مي گويد: در يكي از روزهاي زندگي خود بسيار غمگين بودم و زماني كه به خواب رفتم، مورچه اي را ديدم. سپس تصميم گرفتم طرح آن را بكشم. اين كار به نظرم جالب آمد و از آن روز به بعد اين نوع طراحي را ادامه دادم كه در هر بار نقاشي در اين مدلها تغييراتي را ايجاد مي كنم، ضمن اينكه اين حشره به دليل زندگي منظمي كه دارد، برايم جذاب است. نظم يكي از اركان آثار نقاشي طباطبايي است. عليرغم موضوعات ساده، تركيببندي دو بعدي و تنوع كم در رنگ آميزي سطوح، استحكام طرحها و نقوش بر روي پرده اثر نشان از نظمي دروني دارد. اين نظم خود را در آناتومي و اندام مورچگان به نوع ديگري نشان مي دهد. مشخصه اصلي مورچگان دست و پا و تقسيم بندي سه گانه بدن آنها است و مهمتر آنكه روي شش دست و پا راه مي روند. اما در نقاشيهاي طباطبايي آنها روي دو پا مثل انسان مي ايستند. سرهايشان بزرگترين اندام بدنشان است و چشمها به طور اغراق آميزي در سرجا گرفته است. هدف نقاش از اين تغييرات در اندام مورچگان؟ چيست باآنكه خود نقاش گفته و از نقاشيها استنباط  مي شود، موضوع آثار طباطبايي مورچگان است اما در باطن چنين ظاهري، اين انسانها هستند كه در هيبتي حشره گونه در تابلوهاي نقاش نمايشگر گوشه هايي از زندگي خود هستند. آنها با اندام سياه خود در زمينه اي خاكستري بادكنكهاي رنگي به دست دارند و عروسي مي كنند. تغيير در اندام مورچگان باعث شده چهره و حالات سر و صورت تنها اندام بازگو كننده احساسات موضوع در تابلوي نقاشي نباشد بلكه تمام بدن اين  مورچه - انسانهاحسي را پديد مي آورند كه در تابلو سايه مي اندازد. احساساتي نظير به دام افتادن در دام يك عنكبوت، مادري كردن، تفاهم و دوستي. نكته ديگر، نقاشي درختان به صورت اسليمي هاي ايراني در حاشيه تابلوها با خطوط و رنگهايي زنده و شاداب است. اين نقشها در تقابل بصري با  مورچه - انسانهاست اما در يك هماهنگي دروني با مفهوم مورچه - انسانها به تصوير كشيده شده اند. رنگهاي شاد سبز با ميوه هاي سرخ، شكل انساني محيط را افزايش مي دهند اما اين مورچگان كه به طور گروهي در اين فضا به سر مي برند، يك اصل را مي دانند; جاودانگي در زندگي گروهي و انتقال احساسات به ديگران از طريق هنر است. همان راهي كه مترلينگ به آن اشاره كرد. '"
     },
     "execution_count": 9,
     "metadata": {},
     "output_type": "execute_result"
    }
   ],
   "source": [
    "dataset[\"Text\"][0]"
   ],
   "metadata": {
    "collapsed": false,
    "pycharm": {
     "name": "#%%\n"
    }
   }
  },
  {
   "cell_type": "code",
   "execution_count": 10,
   "outputs": [
    {
     "name": "stdout",
     "output_type": "stream",
     "text": [
      "Category \". راسته: . شب كلاه شكلان (Semaeostomae)\" contains 1 posts.\n",
      "Category \"Adabh\" contains 13 posts.\n",
      "Category \"Aeqts\" contains 10 posts.\n",
      "Category \"Akhar\" contains 10 posts.\n",
      "Category \"Busiw\" contains 9 posts.\n",
      "Category \"Cinew\" contains 3 posts.\n",
      "Category \"Cultw\" contains 651 posts.\n",
      "Category \"Econo\" contains 6 posts.\n",
      "Category \"Eqtes\" contains 14 posts.\n",
      "Category \"Globa\" contains 4 posts.\n",
      "Category \"Gozar\" contains 3 posts.\n",
      "Category \"Kharj\" contains 22 posts.\n",
      "Category \"Lifew\" contains 3 posts.\n",
      "Category \"Musical\" contains 3 posts.\n",
      "Category \"Newsp\" contains 9 posts.\n",
      "Category \"Nnaft\" contains 6 posts.\n",
      "Category \"Polig\" contains 2 posts.\n",
      "Category \"Santj\" contains 4 posts.\n",
      "Category \"Sciew\" contains 6 posts.\n",
      "Category \"Shari\" contains 8 posts.\n",
      "Category \"Siasi\" contains 18 posts.\n",
      "Category \"Sporw\" contains 50 posts.\n",
      "Category \"Theatre\" contains 3 posts.\n",
      "Category \"Thought\" contains 2 posts.\n",
      "Category \"abksh\" contains 495 posts.\n",
      "Category \"adabh\" contains 5171 posts.\n",
      "Category \"adarman\" contains 31 posts.\n",
      "Category \"aeqts\" contains 1378 posts.\n",
      "Category \"akhar\" contains 13811 posts.\n",
      "Category \"art\" contains 113 posts.\n",
      "Category \"artw\" contains 984 posts.\n",
      "Category \"axrooz\" contains 454 posts.\n",
      "Category \"bankb\" contains 765 posts.\n",
      "Category \"bazar\" contains 282 posts.\n",
      "Category \"books\" contains 229 posts.\n",
      "Category \"busiw\" contains 56 posts.\n",
      "Category \"cartoon\" contains 164 posts.\n",
      "Category \"cinama\" contains 52 posts.\n",
      "Category \"cinew\" contains 123 posts.\n",
      "Category \"city\" contains 191 posts.\n",
      "Category \"cultw\" contains 346 posts.\n",
      "Category \"donya\" contains 28 posts.\n",
      "Category \"earth\" contains 190 posts.\n",
      "Category \"econo\" contains 330 posts.\n",
      "Category \"econw\" contains 1030 posts.\n",
      "Category \"ejtem\" contains 8320 posts.\n",
      "Category \"elmfa\" contains 1785 posts.\n",
      "Category \"elmif\" contains 8888 posts.\n",
      "Category \"eqtes\" contains 16661 posts.\n",
      "Category \"eqtsj\" contains 329 posts.\n",
      "Category \"ertebat\" contains 9 posts.\n",
      "Category \"erteg\" contains 19 posts.\n",
      "Category \"gards\" contains 374 posts.\n",
      "Category \"globa\" contains 176 posts.\n",
      "Category \"gofgu\" contains 11 posts.\n",
      "Category \"goftg\" contains 5 posts.\n",
      "Category \"gozar\" contains 1421 posts.\n",
      "Category \"gqarn\" contains 8 posts.\n",
      "Category \"gungn\" contains 7555 posts.\n",
      "Category \"hamln\" contains 93 posts.\n",
      "Category \"havad\" contains 3758 posts.\n",
      "Category \"igozar\" contains 3 posts.\n",
      "Category \"ikabar\" contains 80 posts.\n",
      "Category \"imaqal\" contains 12 posts.\n",
      "Category \"infor\" contains 171 posts.\n",
      "Category \"intep\" contains 797 posts.\n",
      "Category \"jjahn\" contains 220 posts.\n",
      "Category \"jvarz\" contains 1179 posts.\n",
      "Category \"kharj\" contains 14666 posts.\n",
      "Category \"lastp\" contains 233 posts.\n",
      "Category \"lifew\" contains 492 posts.\n",
      "Category \"lite\" contains 30 posts.\n",
      "Category \"maqal\" contains 1439 posts.\n",
      "Category \"maref\" contains 571 posts.\n",
      "Category \"media\" contains 37 posts.\n",
      "Category \"mohit\" contains 954 posts.\n",
      "Category \"mskan\" contains 66 posts.\n",
      "Category \"musical\" contains 108 posts.\n",
      "Category \"nameh\" contains 762 posts.\n",
      "Category \"newsp\" contains 457 posts.\n",
      "Category \"nnaft\" contains 1226 posts.\n",
      "Category \"norooz\" contains 9 posts.\n",
      "Category \"polig\" contains 1391 posts.\n",
      "Category \"sanat\" contains 350 posts.\n",
      "Category \"santj\" contains 615 posts.\n",
      "Category \"scien\" contains 155 posts.\n",
      "Category \"sciew\" contains 444 posts.\n",
      "Category \"shahr\" contains 8412 posts.\n",
      "Category \"shahz\" contains 99 posts.\n",
      "Category \"shari\" contains 10146 posts.\n",
      "Category \"shora\" contains 649 posts.\n",
      "Category \"shrst\" contains 8248 posts.\n",
      "Category \"siasi\" contains 17530 posts.\n",
      "Category \"socie\" contains 197 posts.\n",
      "Category \"soxan\" contains 1326 posts.\n",
      "Category \"sport\" contains 447 posts.\n",
      "Category \"sporw\" contains 955 posts.\n",
      "Category \"techn\" contains 217 posts.\n",
      "Category \"telfn\" contains 197 posts.\n",
      "Category \"theatre\" contains 28 posts.\n",
      "Category \"thought\" contains 150 posts.\n",
      "Category \"vrzsh\" contains 13011 posts.\n",
      "Category \"women\" contains 71 posts.\n",
      "Category \"ydsht\" contains 240 posts.\n",
      "Category \"youth\" contains 63 posts.\n",
      "Category \"zanan\" contains 278 posts.\n",
      "Category \"آرمينيابيلفلد آلمان باعث عكس العمل ها و واكنش هاي بسياري \" contains 1 posts.\n",
      "Category \"بزرگترين پل بتوني كشور به طول سه كيلومتر كه نقش عمده اي در كاهش بار \" contains 1 posts.\n",
      "Category \"به پرواز درآمد. شركت كنندگان از سي كشور بودند و چند نفري از آنان \" contains 1 posts.\n",
      "Category \"به گزارش خبرنگار همشهري در جلسه علني ديروز كه به رياست آقاي \" contains 1 posts.\n",
      "Category \"در حساسترين بازي اين هفته، يوونتوس، صدرنشين رقابتها در ورزشگاه \" contains 1 posts.\n",
      "Category \"رياضي دست يافت. به گزارش خبرنگار ما از باشگاه دانش پژوهان جوان، در \" contains 1 posts.\n",
      "Category \"شركت كرده بود در پايان اين رقابتها با كسب يك مدال طلا و يك برنز \" contains 1 posts.\n"
     ]
    }
   ],
   "source": [
    "cats = dataset[\"Cat\"]\n",
    "texts = dataset[\"Text\"]\n",
    "unique_cats = np.unique(cats)\n",
    "cat_texts_count = dict.fromkeys(unique_cats, 0)\n",
    "\n",
    "for cat in cats:\n",
    "  cat_texts_count[cat] += 1\n",
    "\n",
    "for cat, cnt in cat_texts_count.items():\n",
    "  print('Category \"{}\" contains {} posts.'.format(cat, cnt))"
   ],
   "metadata": {
    "collapsed": false,
    "pycharm": {
     "name": "#%%\n"
    }
   }
  },
  {
   "cell_type": "markdown",
   "id": "a5a27854",
   "metadata": {
    "pycharm": {
     "name": "#%% md\n"
    }
   },
   "source": [
    "## PreProcess"
   ]
  },
  {
   "cell_type": "code",
   "execution_count": 11,
   "id": "7a5fe130",
   "metadata": {
    "pycharm": {
     "name": "#%%\n"
    }
   },
   "outputs": [
    {
     "name": "stdout",
     "output_type": "stream",
     "text": [
      "Found 155 unique tokens.\n",
      "Shape of data tensor: (165233, 250)\n"
     ]
    }
   ],
   "source": [
    "num_classes = len(unique_cats)\n",
    "\n",
    "MAX_NB_WORDS = 50000\n",
    "MAX_SEQUENCE_LENGTH = 250\n",
    "EMBEDDING_DIM = 100\n",
    "\n",
    "tokenizer = tf.keras.preprocessing.text.Tokenizer(num_words=MAX_NB_WORDS, filters='!\"#$%&()*+,-./:;<=>?@[\\]^_`{|}~', lower=True)\n",
    "tokenizer.fit_on_texts(dataset[\"Cat\"].values)\n",
    "word_index = tokenizer.word_index\n",
    "print('Found %s unique tokens.' % len(word_index))\n",
    "\n",
    "X = tokenizer.texts_to_sequences(dataset[\"Cat\"].values)\n",
    "X = tf.keras.preprocessing.sequence.pad_sequences(X, maxlen=MAX_SEQUENCE_LENGTH)\n",
    "print('Shape of data tensor:', X.shape)"
   ]
  },
  {
   "cell_type": "code",
   "execution_count": 12,
   "id": "3d9b6051",
   "metadata": {
    "pycharm": {
     "name": "#%%\n"
    }
   },
   "outputs": [
    {
     "name": "stdout",
     "output_type": "stream",
     "text": [
      "Shape of label tensor: (165233, 113)\n",
      "(115663, 250) (115663, 113)\n",
      "(49570, 250) (49570, 113)\n"
     ]
    }
   ],
   "source": [
    "rows_of_train = 250000\n",
    "rows_of_test = 75000\n",
    "\n",
    "Y_for_predict = pd.get_dummies(dataset['Cat'])\n",
    "Y = Y_for_predict.values\n",
    "Y_for_predict = Y_for_predict.columns.values\n",
    "print('Shape of label tensor:', Y.shape)\n",
    "\n",
    "X_train, X_test, y_train, y_test = train_test_split(X, Y, test_size=0.3)\n",
    "\n",
    "print(X_train.shape,y_train.shape)\n",
    "print(X_test.shape,y_test.shape)"
   ]
  },
  {
   "cell_type": "code",
   "execution_count": 13,
   "outputs": [
    {
     "data": {
      "text/plain": "array(['. راسته: . شب كلاه شكلان (Semaeostomae)', 'Adabh', 'Aeqts',\n       'Akhar', 'Busiw', 'Cinew', 'Cultw', 'Econo', 'Eqtes', 'Globa',\n       'Gozar', 'Kharj', 'Lifew', 'Musical', 'Newsp', 'Nnaft', 'Polig',\n       'Santj', 'Sciew', 'Shari', 'Siasi', 'Sporw', 'Theatre', 'Thought',\n       'abksh', 'adabh', 'adarman', 'aeqts', 'akhar', 'art', 'artw',\n       'axrooz', 'bankb', 'bazar', 'books', 'busiw', 'cartoon', 'cinama',\n       'cinew', 'city', 'cultw', 'donya', 'earth', 'econo', 'econw',\n       'ejtem', 'elmfa', 'elmif', 'eqtes', 'eqtsj', 'ertebat', 'erteg',\n       'gards', 'globa', 'gofgu', 'goftg', 'gozar', 'gqarn', 'gungn',\n       'hamln', 'havad', 'igozar', 'ikabar', 'imaqal', 'infor', 'intep',\n       'jjahn', 'jvarz', 'kharj', 'lastp', 'lifew', 'lite', 'maqal',\n       'maref', 'media', 'mohit', 'mskan', 'musical', 'nameh', 'newsp',\n       'nnaft', 'norooz', 'polig', 'sanat', 'santj', 'scien', 'sciew',\n       'shahr', 'shahz', 'shari', 'shora', 'shrst', 'siasi', 'socie',\n       'soxan', 'sport', 'sporw', 'techn', 'telfn', 'theatre', 'thought',\n       'vrzsh', 'women', 'ydsht', 'youth', 'zanan',\n       'آرمينيابيلفلد آلمان باعث عكس العمل ها و واكنش هاي بسياري ',\n       'بزرگترين پل بتوني كشور به طول سه كيلومتر كه نقش عمده اي در كاهش بار ',\n       'به پرواز درآمد. شركت كنندگان از سي كشور بودند و چند نفري از آنان ',\n       'به گزارش خبرنگار همشهري در جلسه علني ديروز كه به رياست آقاي ',\n       'در حساسترين بازي اين هفته، يوونتوس، صدرنشين رقابتها در ورزشگاه ',\n       'رياضي دست يافت. به گزارش خبرنگار ما از باشگاه دانش پژوهان جوان، در ',\n       'شركت كرده بود در پايان اين رقابتها با كسب يك مدال طلا و يك برنز '],\n      dtype=object)"
     },
     "execution_count": 13,
     "metadata": {},
     "output_type": "execute_result"
    }
   ],
   "source": [
    "Y_for_predict"
   ],
   "metadata": {
    "collapsed": false,
    "pycharm": {
     "name": "#%%\n"
    }
   }
  },
  {
   "cell_type": "markdown",
   "id": "ed8cb0c3",
   "metadata": {
    "pycharm": {
     "name": "#%% md\n"
    }
   },
   "source": [
    "## Classification"
   ]
  },
  {
   "cell_type": "code",
   "execution_count": 14,
   "outputs": [
    {
     "name": "stderr",
     "output_type": "stream",
     "text": [
      "2022-07-15 14:36:26.012115: W tensorflow/stream_executor/platform/default/dso_loader.cc:64] Could not load dynamic library 'libcuda.so.1'; dlerror: libcuda.so.1: cannot open shared object file: No such file or directory\n",
      "2022-07-15 14:36:26.012140: W tensorflow/stream_executor/cuda/cuda_driver.cc:269] failed call to cuInit: UNKNOWN ERROR (303)\n",
      "2022-07-15 14:36:26.012157: I tensorflow/stream_executor/cuda/cuda_diagnostics.cc:156] kernel driver does not appear to be running on this host (milad): /proc/driver/nvidia/version does not exist\n",
      "2022-07-15 14:36:26.013253: I tensorflow/core/platform/cpu_feature_guard.cc:193] This TensorFlow binary is optimized with oneAPI Deep Neural Network Library (oneDNN) to use the following CPU instructions in performance-critical operations:  AVX2 FMA\n",
      "To enable them in other operations, rebuild TensorFlow with the appropriate compiler flags.\n",
      "2022-07-15 14:36:26.040775: W tensorflow/core/framework/cpu_allocator_impl.cc:82] Allocation of 20000000 exceeds 10% of free system memory.\n",
      "2022-07-15 14:36:26.056501: W tensorflow/core/framework/cpu_allocator_impl.cc:82] Allocation of 20000000 exceeds 10% of free system memory.\n",
      "2022-07-15 14:36:26.061590: W tensorflow/core/framework/cpu_allocator_impl.cc:82] Allocation of 20000000 exceeds 10% of free system memory.\n"
     ]
    },
    {
     "name": "stdout",
     "output_type": "stream",
     "text": [
      "Model: \"sequential\"\n",
      "_________________________________________________________________\n",
      " Layer (type)                Output Shape              Param #   \n",
      "=================================================================\n",
      " embedding (Embedding)       (None, 250, 100)          5000000   \n",
      "                                                                 \n",
      " spatial_dropout1d (SpatialD  (None, 250, 100)         0         \n",
      " ropout1D)                                                       \n",
      "                                                                 \n",
      " lstm (LSTM)                 (None, 100)               80400     \n",
      "                                                                 \n",
      " dense (Dense)               (None, 113)               11413     \n",
      "                                                                 \n",
      "=================================================================\n",
      "Total params: 5,091,813\n",
      "Trainable params: 5,091,813\n",
      "Non-trainable params: 0\n",
      "_________________________________________________________________\n",
      "Epoch 1/2\n"
     ]
    },
    {
     "name": "stderr",
     "output_type": "stream",
     "text": [
      "2022-07-15 14:36:26.263217: W tensorflow/core/framework/cpu_allocator_impl.cc:82] Allocation of 115663000 exceeds 10% of free system memory.\n",
      "2022-07-15 14:36:27.265007: W tensorflow/core/framework/cpu_allocator_impl.cc:82] Allocation of 20000000 exceeds 10% of free system memory.\n"
     ]
    },
    {
     "name": "stdout",
     "output_type": "stream",
     "text": [
      "1808/1808 [==============================] - 562s 309ms/step - loss: 0.4720 - accuracy: 0.9144 - val_loss: 0.0336 - val_accuracy: 0.9951\n",
      "Epoch 2/2\n",
      "1808/1808 [==============================] - 593s 328ms/step - loss: 0.0267 - accuracy: 0.9958 - val_loss: 0.0159 - val_accuracy: 0.9950\n"
     ]
    }
   ],
   "source": [
    "model = Sequential()\n",
    "model.add(Embedding(MAX_NB_WORDS, EMBEDDING_DIM, input_length=X.shape[1]))\n",
    "model.add(SpatialDropout1D(0.2))\n",
    "model.add(LSTM(100, dropout=0.2, recurrent_dropout=0.2))\n",
    "model.add(Dense(113, activation='softmax'))\n",
    "model.compile(loss='categorical_crossentropy', optimizer='adam', metrics=['accuracy'])\n",
    "model.summary()\n",
    "\n",
    "epochs = 2\n",
    "batch_size = 64\n",
    "history = model.fit(X_train,y_train,validation_data=(X_test,y_test),epochs=epochs,batch_size=batch_size)"
   ],
   "metadata": {
    "collapsed": false,
    "pycharm": {
     "name": "#%%\n"
    }
   }
  },
  {
   "cell_type": "code",
   "execution_count": 11,
   "outputs": [
    {
     "name": "stdout",
     "output_type": "stream",
     "text": [
      "1550/1550 [==============================] - 136s 88ms/step\n"
     ]
    }
   ],
   "source": [
    "Y_pred = model.predict([X_test])"
   ],
   "metadata": {
    "collapsed": false,
    "pycharm": {
     "name": "#%%\n"
    }
   }
  },
  {
   "cell_type": "code",
   "execution_count": 15,
   "outputs": [
    {
     "name": "stdout",
     "output_type": "stream",
     "text": [
      "1/1 [==============================] - 0s 263ms/step\n",
      "Category is donya with 0.08373985439538956 probability.\n"
     ]
    }
   ],
   "source": [
    "def prediction(text):\n",
    "    _text = preprocessing(text)\n",
    "    _text = tokenizer.texts_to_sequences([text])\n",
    "    _text = tf.keras.preprocessing.sequence.pad_sequences(_text, maxlen=MAX_SEQUENCE_LENGTH)\n",
    "    result = model.predict([_text])[0]\n",
    "    _max = max(result)\n",
    "    index = np.where(result == _max)[0][0]\n",
    "    category = Y_for_predict[index]\n",
    "    print(\"Category is {} with {} probability.\".format(category, _max))\n",
    "\n",
    "prediction(\"رويدادهاي هنري جهان \\nنمايشگاه هنر در خدمت ديكتاتورها \\nنمايشگاه ارتباط بين هنر وقدرت ديكتاتورها در اروپا درشهر برلين \\nآغاز به كار كرد. به گزارش واحد مركزي خبر به نقل از شبكه خبري \")"
   ],
   "metadata": {
    "collapsed": false,
    "pycharm": {
     "name": "#%%\n"
    }
   }
  },
  {
   "cell_type": "code",
   "execution_count": 12,
   "outputs": [],
   "source": [],
   "metadata": {
    "collapsed": false,
    "pycharm": {
     "name": "#%%\n"
    }
   }
  }
 ],
 "metadata": {
  "kernelspec": {
   "display_name": "Python 3 (ipykernel)",
   "language": "python",
   "name": "python3"
  },
  "language_info": {
   "codemirror_mode": {
    "name": "ipython",
    "version": 3
   },
   "file_extension": ".py",
   "mimetype": "text/x-python",
   "name": "python",
   "nbconvert_exporter": "python",
   "pygments_lexer": "ipython3",
   "version": "3.10.4"
  }
 },
 "nbformat": 4,
 "nbformat_minor": 5
}