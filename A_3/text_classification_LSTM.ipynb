{
 "cells": [
  {
   "cell_type": "code",
   "execution_count": 1,
   "id": "375572cf",
   "metadata": {
    "pycharm": {
     "name": "#%%\n"
    }
   },
   "outputs": [
    {
     "name": "stdout",
     "output_type": "stream",
     "text": [
      "Defaulting to user installation because normal site-packages is not writeable\r\n",
      "Requirement already satisfied: tensorflow in /home/milad/.local/lib/python3.10/site-packages (2.9.1)\r\n",
      "Requirement already satisfied: packaging in /home/milad/.local/lib/python3.10/site-packages (from tensorflow) (21.3)\r\n",
      "Requirement already satisfied: six>=1.12.0 in /usr/lib/python3/dist-packages (from tensorflow) (1.16.0)\r\n",
      "Requirement already satisfied: grpcio<2.0,>=1.24.3 in /home/milad/.local/lib/python3.10/site-packages (from tensorflow) (1.47.0)\r\n",
      "Requirement already satisfied: absl-py>=1.0.0 in /home/milad/.local/lib/python3.10/site-packages (from tensorflow) (1.1.0)\r\n",
      "Requirement already satisfied: gast<=0.4.0,>=0.2.1 in /home/milad/.local/lib/python3.10/site-packages (from tensorflow) (0.4.0)\r\n",
      "Requirement already satisfied: protobuf<3.20,>=3.9.2 in /usr/lib/python3/dist-packages (from tensorflow) (3.12.4)\r\n",
      "Requirement already satisfied: astunparse>=1.6.0 in /home/milad/.local/lib/python3.10/site-packages (from tensorflow) (1.6.3)\r\n",
      "Requirement already satisfied: tensorboard<2.10,>=2.9 in /home/milad/.local/lib/python3.10/site-packages (from tensorflow) (2.9.1)\r\n",
      "Requirement already satisfied: setuptools in /usr/lib/python3/dist-packages (from tensorflow) (59.6.0)\r\n",
      "Requirement already satisfied: tensorflow-estimator<2.10.0,>=2.9.0rc0 in /home/milad/.local/lib/python3.10/site-packages (from tensorflow) (2.9.0)\r\n",
      "Requirement already satisfied: keras-preprocessing>=1.1.1 in /home/milad/.local/lib/python3.10/site-packages (from tensorflow) (1.1.2)\r\n",
      "Requirement already satisfied: opt-einsum>=2.3.2 in /home/milad/.local/lib/python3.10/site-packages (from tensorflow) (3.3.0)\r\n",
      "Requirement already satisfied: termcolor>=1.1.0 in /home/milad/.local/lib/python3.10/site-packages (from tensorflow) (1.1.0)\r\n",
      "Requirement already satisfied: wrapt>=1.11.0 in /home/milad/.local/lib/python3.10/site-packages (from tensorflow) (1.14.1)\r\n",
      "Requirement already satisfied: keras<2.10.0,>=2.9.0rc0 in /home/milad/.local/lib/python3.10/site-packages (from tensorflow) (2.9.0)\r\n",
      "Requirement already satisfied: google-pasta>=0.1.1 in /home/milad/.local/lib/python3.10/site-packages (from tensorflow) (0.2.0)\r\n",
      "Requirement already satisfied: numpy>=1.20 in /home/milad/.local/lib/python3.10/site-packages (from tensorflow) (1.23.1)\r\n",
      "Requirement already satisfied: flatbuffers<2,>=1.12 in /home/milad/.local/lib/python3.10/site-packages (from tensorflow) (1.12)\r\n",
      "Requirement already satisfied: libclang>=13.0.0 in /home/milad/.local/lib/python3.10/site-packages (from tensorflow) (14.0.1)\r\n",
      "Requirement already satisfied: typing-extensions>=3.6.6 in /home/milad/.local/lib/python3.10/site-packages (from tensorflow) (4.3.0)\r\n",
      "Requirement already satisfied: tensorflow-io-gcs-filesystem>=0.23.1 in /home/milad/.local/lib/python3.10/site-packages (from tensorflow) (0.26.0)\r\n",
      "Requirement already satisfied: h5py>=2.9.0 in /home/milad/.local/lib/python3.10/site-packages (from tensorflow) (3.7.0)\r\n",
      "Requirement already satisfied: wheel<1.0,>=0.23.0 in /usr/lib/python3/dist-packages (from astunparse>=1.6.0->tensorflow) (0.37.1)\r\n",
      "Requirement already satisfied: tensorboard-plugin-wit>=1.6.0 in /home/milad/.local/lib/python3.10/site-packages (from tensorboard<2.10,>=2.9->tensorflow) (1.8.1)\r\n",
      "Requirement already satisfied: werkzeug>=1.0.1 in /home/milad/.local/lib/python3.10/site-packages (from tensorboard<2.10,>=2.9->tensorflow) (2.1.2)\r\n",
      "Requirement already satisfied: markdown>=2.6.8 in /home/milad/.local/lib/python3.10/site-packages (from tensorboard<2.10,>=2.9->tensorflow) (3.3.7)\r\n",
      "Requirement already satisfied: requests<3,>=2.21.0 in /usr/lib/python3/dist-packages (from tensorboard<2.10,>=2.9->tensorflow) (2.25.1)\r\n",
      "Requirement already satisfied: google-auth<3,>=1.6.3 in /home/milad/.local/lib/python3.10/site-packages (from tensorboard<2.10,>=2.9->tensorflow) (2.9.1)\r\n",
      "Requirement already satisfied: tensorboard-data-server<0.7.0,>=0.6.0 in /home/milad/.local/lib/python3.10/site-packages (from tensorboard<2.10,>=2.9->tensorflow) (0.6.1)\r\n",
      "Requirement already satisfied: google-auth-oauthlib<0.5,>=0.4.1 in /home/milad/.local/lib/python3.10/site-packages (from tensorboard<2.10,>=2.9->tensorflow) (0.4.6)\r\n",
      "Requirement already satisfied: pyparsing!=3.0.5,>=2.0.2 in /usr/lib/python3/dist-packages (from packaging->tensorflow) (2.4.7)\r\n",
      "Requirement already satisfied: pyasn1-modules>=0.2.1 in /home/milad/.local/lib/python3.10/site-packages (from google-auth<3,>=1.6.3->tensorboard<2.10,>=2.9->tensorflow) (0.2.8)\r\n",
      "Requirement already satisfied: rsa<5,>=3.1.4 in /home/milad/.local/lib/python3.10/site-packages (from google-auth<3,>=1.6.3->tensorboard<2.10,>=2.9->tensorflow) (4.8)\r\n",
      "Requirement already satisfied: cachetools<6.0,>=2.0.0 in /home/milad/.local/lib/python3.10/site-packages (from google-auth<3,>=1.6.3->tensorboard<2.10,>=2.9->tensorflow) (5.2.0)\r\n",
      "Requirement already satisfied: requests-oauthlib>=0.7.0 in /home/milad/.local/lib/python3.10/site-packages (from google-auth-oauthlib<0.5,>=0.4.1->tensorboard<2.10,>=2.9->tensorflow) (1.3.1)\r\n",
      "Requirement already satisfied: pyasn1<0.5.0,>=0.4.6 in /home/milad/.local/lib/python3.10/site-packages (from pyasn1-modules>=0.2.1->google-auth<3,>=1.6.3->tensorboard<2.10,>=2.9->tensorflow) (0.4.8)\r\n",
      "Requirement already satisfied: oauthlib>=3.0.0 in /usr/lib/python3/dist-packages (from requests-oauthlib>=0.7.0->google-auth-oauthlib<0.5,>=0.4.1->tensorboard<2.10,>=2.9->tensorflow) (3.2.0)\r\n",
      "Defaulting to user installation because normal site-packages is not writeable\r\n",
      "Requirement already satisfied: keras in /home/milad/.local/lib/python3.10/site-packages (2.9.0)\r\n",
      "Defaulting to user installation because normal site-packages is not writeable\r\n",
      "Requirement already satisfied: pandas in /home/milad/.local/lib/python3.10/site-packages (1.4.3)\r\n",
      "Requirement already satisfied: pytz>=2020.1 in /usr/lib/python3/dist-packages (from pandas) (2022.1)\r\n",
      "Requirement already satisfied: numpy>=1.21.0 in /home/milad/.local/lib/python3.10/site-packages (from pandas) (1.23.1)\r\n",
      "Requirement already satisfied: python-dateutil>=2.8.1 in /home/milad/.local/lib/python3.10/site-packages (from pandas) (2.8.2)\r\n",
      "Requirement already satisfied: six>=1.5 in /usr/lib/python3/dist-packages (from python-dateutil>=2.8.1->pandas) (1.16.0)\r\n",
      "Defaulting to user installation because normal site-packages is not writeable\r\n",
      "Requirement already satisfied: nltk in /home/milad/.local/lib/python3.10/site-packages (3.3)\r\n",
      "Requirement already satisfied: six in /usr/lib/python3/dist-packages (from nltk) (1.16.0)\r\n",
      "Defaulting to user installation because normal site-packages is not writeable\r\n",
      "Requirement already satisfied: hazm in /home/milad/.local/lib/python3.10/site-packages (0.7.0)\r\n",
      "Requirement already satisfied: libwapiti>=0.2.1 in /home/milad/.local/lib/python3.10/site-packages (from hazm) (0.2.1)\r\n",
      "Requirement already satisfied: nltk==3.3 in /home/milad/.local/lib/python3.10/site-packages (from hazm) (3.3)\r\n",
      "Requirement already satisfied: six in /usr/lib/python3/dist-packages (from nltk==3.3->hazm) (1.16.0)\r\n",
      "Defaulting to user installation because normal site-packages is not writeable\r\n",
      "Requirement already satisfied: sklearn in /home/milad/.local/lib/python3.10/site-packages (0.0)\r\n",
      "Requirement already satisfied: scikit-learn in /home/milad/.local/lib/python3.10/site-packages (from sklearn) (1.1.1)\r\n",
      "Requirement already satisfied: scipy>=1.3.2 in /home/milad/.local/lib/python3.10/site-packages (from scikit-learn->sklearn) (1.8.1)\r\n",
      "Requirement already satisfied: joblib>=1.0.0 in /home/milad/.local/lib/python3.10/site-packages (from scikit-learn->sklearn) (1.1.0)\r\n",
      "Requirement already satisfied: numpy>=1.17.3 in /home/milad/.local/lib/python3.10/site-packages (from scikit-learn->sklearn) (1.23.1)\r\n",
      "Requirement already satisfied: threadpoolctl>=2.0.0 in /home/milad/.local/lib/python3.10/site-packages (from scikit-learn->sklearn) (3.1.0)\r\n"
     ]
    }
   ],
   "source": [
    "!pip install tensorflow\n",
    "!pip install keras\n",
    "!pip install pandas\n",
    "!pip install hazm"
   ]
  },
  {
   "cell_type": "code",
   "execution_count": 4,
   "id": "c5aad9fe",
   "metadata": {
    "pycharm": {
     "name": "#%%\n"
    }
   },
   "outputs": [],
   "source": [
    "import pandas as pd\n",
    "import numpy as np\n",
    "from hazm import *\n",
    "import re\n",
    "import tensorflow as tf\n",
    "from keras.models import Sequential, save_model\n",
    "from keras.layers import Dense, Embedding, LSTM, SpatialDropout1D"
   ]
  },
  {
   "cell_type": "code",
   "execution_count": 2,
   "id": "f9a89b4f",
   "metadata": {
    "pycharm": {
     "name": "#%%\n"
    }
   },
   "outputs": [
    {
     "name": "stdout",
     "output_type": "stream",
     "text": [
      "      DID      Date    Cat                                               Text\n",
      "0     1S1  75\\04\\02  adabh  جاودانگي در زندگي گروهي از طريق هنر \\nنگاهي به...\n",
      "1  DID2S1  75\\04\\02  adabh  رويدادهاي هنري جهان \\nنمايشگاه هنر در خدمت ديك...\n",
      "2  DID3S1  75\\04\\02  adabh  برديوار نگارخانه ها \\nگالري گلستان: \\nنمايشگاه...\n",
      "3  DID4S1  75\\04\\02  ejtem  بازي را جدي بگيريم \\nمطالعه اي مقدماتي پيرامون...\n",
      "4  DID5S1  75\\04\\02  elmfa  تخته سياه و غباري كه سترده نمي شود... \\nاشاره;...\n"
     ]
    }
   ],
   "source": [
    "dataset = pd.read_csv(\"hamshahri.csv\")\n",
    "print(dataset.head())"
   ]
  },
  {
   "cell_type": "code",
   "execution_count": 6,
   "id": "4f14b8d5",
   "metadata": {
    "pycharm": {
     "name": "#%%\n"
    }
   },
   "outputs": [
    {
     "name": "stdout",
     "output_type": "stream",
     "text": [
      "Dataset has 165233 rows.\n"
     ]
    }
   ],
   "source": [
    "data_len = dataset.shape[0]\n",
    "print('Dataset has {} rows.'.format(data_len))"
   ]
  },
  {
   "cell_type": "code",
   "execution_count": 5,
   "id": "6e245ecb",
   "metadata": {
    "pycharm": {
     "name": "#%%\n"
    }
   },
   "outputs": [
    {
     "name": "stdout",
     "output_type": "stream",
     "text": [
      "Category \". راسته: . شب كلاه شكلان (Semaeostomae)\" contains 1 posts.\n",
      "Category \"Adabh\" contains 13 posts.\n",
      "Category \"Aeqts\" contains 10 posts.\n",
      "Category \"Akhar\" contains 10 posts.\n",
      "Category \"Busiw\" contains 9 posts.\n",
      "Category \"Cinew\" contains 3 posts.\n",
      "Category \"Cultw\" contains 651 posts.\n",
      "Category \"Econo\" contains 6 posts.\n",
      "Category \"Eqtes\" contains 14 posts.\n",
      "Category \"Globa\" contains 4 posts.\n",
      "Category \"Gozar\" contains 3 posts.\n",
      "Category \"Kharj\" contains 22 posts.\n",
      "Category \"Lifew\" contains 3 posts.\n",
      "Category \"Musical\" contains 3 posts.\n",
      "Category \"Newsp\" contains 9 posts.\n",
      "Category \"Nnaft\" contains 6 posts.\n",
      "Category \"Polig\" contains 2 posts.\n",
      "Category \"Santj\" contains 4 posts.\n",
      "Category \"Sciew\" contains 6 posts.\n",
      "Category \"Shari\" contains 8 posts.\n",
      "Category \"Siasi\" contains 18 posts.\n",
      "Category \"Sporw\" contains 50 posts.\n",
      "Category \"Theatre\" contains 3 posts.\n",
      "Category \"Thought\" contains 2 posts.\n",
      "Category \"abksh\" contains 495 posts.\n",
      "Category \"adabh\" contains 5171 posts.\n",
      "Category \"adarman\" contains 31 posts.\n",
      "Category \"aeqts\" contains 1378 posts.\n",
      "Category \"akhar\" contains 13811 posts.\n",
      "Category \"art\" contains 113 posts.\n",
      "Category \"artw\" contains 984 posts.\n",
      "Category \"axrooz\" contains 454 posts.\n",
      "Category \"bankb\" contains 765 posts.\n",
      "Category \"bazar\" contains 282 posts.\n",
      "Category \"books\" contains 229 posts.\n",
      "Category \"busiw\" contains 56 posts.\n",
      "Category \"cartoon\" contains 164 posts.\n",
      "Category \"cinama\" contains 52 posts.\n",
      "Category \"cinew\" contains 123 posts.\n",
      "Category \"city\" contains 191 posts.\n",
      "Category \"cultw\" contains 346 posts.\n",
      "Category \"donya\" contains 28 posts.\n",
      "Category \"earth\" contains 190 posts.\n",
      "Category \"econo\" contains 330 posts.\n",
      "Category \"econw\" contains 1030 posts.\n",
      "Category \"ejtem\" contains 8320 posts.\n",
      "Category \"elmfa\" contains 1785 posts.\n",
      "Category \"elmif\" contains 8888 posts.\n",
      "Category \"eqtes\" contains 16661 posts.\n",
      "Category \"eqtsj\" contains 329 posts.\n",
      "Category \"ertebat\" contains 9 posts.\n",
      "Category \"erteg\" contains 19 posts.\n",
      "Category \"gards\" contains 374 posts.\n",
      "Category \"globa\" contains 176 posts.\n",
      "Category \"gofgu\" contains 11 posts.\n",
      "Category \"goftg\" contains 5 posts.\n",
      "Category \"gozar\" contains 1421 posts.\n",
      "Category \"gqarn\" contains 8 posts.\n",
      "Category \"gungn\" contains 7555 posts.\n",
      "Category \"hamln\" contains 93 posts.\n",
      "Category \"havad\" contains 3758 posts.\n",
      "Category \"igozar\" contains 3 posts.\n",
      "Category \"ikabar\" contains 80 posts.\n",
      "Category \"imaqal\" contains 12 posts.\n",
      "Category \"infor\" contains 171 posts.\n",
      "Category \"intep\" contains 797 posts.\n",
      "Category \"jjahn\" contains 220 posts.\n",
      "Category \"jvarz\" contains 1179 posts.\n",
      "Category \"kharj\" contains 14666 posts.\n",
      "Category \"lastp\" contains 233 posts.\n",
      "Category \"lifew\" contains 492 posts.\n",
      "Category \"lite\" contains 30 posts.\n",
      "Category \"maqal\" contains 1439 posts.\n",
      "Category \"maref\" contains 571 posts.\n",
      "Category \"media\" contains 37 posts.\n",
      "Category \"mohit\" contains 954 posts.\n",
      "Category \"mskan\" contains 66 posts.\n",
      "Category \"musical\" contains 108 posts.\n",
      "Category \"nameh\" contains 762 posts.\n",
      "Category \"newsp\" contains 457 posts.\n",
      "Category \"nnaft\" contains 1226 posts.\n",
      "Category \"norooz\" contains 9 posts.\n",
      "Category \"polig\" contains 1391 posts.\n",
      "Category \"sanat\" contains 350 posts.\n",
      "Category \"santj\" contains 615 posts.\n",
      "Category \"scien\" contains 155 posts.\n",
      "Category \"sciew\" contains 444 posts.\n",
      "Category \"shahr\" contains 8412 posts.\n",
      "Category \"shahz\" contains 99 posts.\n",
      "Category \"shari\" contains 10146 posts.\n",
      "Category \"shora\" contains 649 posts.\n",
      "Category \"shrst\" contains 8248 posts.\n",
      "Category \"siasi\" contains 17530 posts.\n",
      "Category \"socie\" contains 197 posts.\n",
      "Category \"soxan\" contains 1326 posts.\n",
      "Category \"sport\" contains 447 posts.\n",
      "Category \"sporw\" contains 955 posts.\n",
      "Category \"techn\" contains 217 posts.\n",
      "Category \"telfn\" contains 197 posts.\n",
      "Category \"theatre\" contains 28 posts.\n",
      "Category \"thought\" contains 150 posts.\n",
      "Category \"vrzsh\" contains 13011 posts.\n",
      "Category \"women\" contains 71 posts.\n",
      "Category \"ydsht\" contains 240 posts.\n",
      "Category \"youth\" contains 63 posts.\n",
      "Category \"zanan\" contains 278 posts.\n",
      "Category \"آرمينيابيلفلد آلمان باعث عكس العمل ها و واكنش هاي بسياري \" contains 1 posts.\n",
      "Category \"بزرگترين پل بتوني كشور به طول سه كيلومتر كه نقش عمده اي در كاهش بار \" contains 1 posts.\n",
      "Category \"به پرواز درآمد. شركت كنندگان از سي كشور بودند و چند نفري از آنان \" contains 1 posts.\n",
      "Category \"به گزارش خبرنگار همشهري در جلسه علني ديروز كه به رياست آقاي \" contains 1 posts.\n",
      "Category \"در حساسترين بازي اين هفته، يوونتوس، صدرنشين رقابتها در ورزشگاه \" contains 1 posts.\n",
      "Category \"رياضي دست يافت. به گزارش خبرنگار ما از باشگاه دانش پژوهان جوان، در \" contains 1 posts.\n",
      "Category \"شركت كرده بود در پايان اين رقابتها با كسب يك مدال طلا و يك برنز \" contains 1 posts.\n"
     ]
    }
   ],
   "source": [
    "cats = dataset[\"Cat\"]\n",
    "texts = dataset[\"Text\"]\n",
    "unique_cats = np.unique(cats)\n",
    "cat_texts_count = dict.fromkeys(unique_cats, 0)\n",
    "\n",
    "for cat in cats:\n",
    "  cat_texts_count[cat] += 1\n",
    "\n",
    "for cat, cnt in cat_texts_count.items():\n",
    "  print('Category \"{}\" contains {} posts.'.format(cat, cnt))"
   ]
  },
  {
   "cell_type": "code",
   "execution_count": 6,
   "id": "ff1f3829",
   "metadata": {
    "pycharm": {
     "name": "#%%\n"
    }
   },
   "outputs": [],
   "source": [
    "with open (\"fa_stop_words.txt\", \"r\") as fa_stop_words:\n",
    "    stopwords = fa_stop_words.read().splitlines()"
   ]
  },
  {
   "cell_type": "code",
   "execution_count": 7,
   "id": "78bd3f27",
   "metadata": {
    "pycharm": {
     "name": "#%%\n"
    }
   },
   "outputs": [],
   "source": [
    "normalizer = Normalizer()\n",
    "lemmatizer = Lemmatizer()\n",
    "stemmer = Stemmer()\n",
    "\n",
    "def preprocessing(text):\n",
    "    text = re.sub('<[^<]+?>','', text)\n",
    "    text = ''.join(c for c in text if not c.isdigit())\n",
    "    text = normalizer.normalize(text)\n",
    "    text = ' '.join(word for word in text.split() if word not in stopwords)\n",
    "    return text"
   ]
  },
  {
   "cell_type": "markdown",
   "id": "a5a27854",
   "metadata": {
    "pycharm": {
     "name": "#%% md\n"
    }
   },
   "source": [
    "## PreProcess"
   ]
  },
  {
   "cell_type": "code",
   "execution_count": 11,
   "id": "7a5fe130",
   "metadata": {
    "pycharm": {
     "name": "#%%\n"
    }
   },
   "outputs": [
    {
     "name": "stdout",
     "output_type": "stream",
     "text": [
      "Found 155 unique tokens.\n",
      "Shape of data tensor: (165233, 250)\n"
     ]
    }
   ],
   "source": [
    "num_classes = len(unique_cats)\n",
    "\n",
    "MAX_NB_WORDS = 50000\n",
    "MAX_SEQUENCE_LENGTH = 250\n",
    "EMBEDDING_DIM = 100\n",
    "\n",
    "tokenizer = tf.keras.preprocessing.text.Tokenizer(num_words=MAX_NB_WORDS, filters='!\"#$%&()*+,-./:;<=>?@[\\]^_`{|}~', lower=True)\n",
    "tokenizer.fit_on_texts(dataset[\"Cat\"].values)\n",
    "word_index = tokenizer.word_index\n",
    "print('Found %s unique tokens.' % len(word_index))\n",
    "\n",
    "X = tokenizer.texts_to_sequences(dataset[\"Cat\"].values)\n",
    "X = tf.keras.preprocessing.sequence.pad_sequences(X, maxlen=MAX_SEQUENCE_LENGTH)\n",
    "print('Shape of data tensor:', X.shape)"
   ]
  },
  {
   "cell_type": "code",
   "execution_count": 13,
   "id": "3d9b6051",
   "metadata": {
    "pycharm": {
     "name": "#%%\n"
    }
   },
   "outputs": [
    {
     "name": "stdout",
     "output_type": "stream",
     "text": [
      "Shape of label tensor: (165233, 113)\n",
      "(165233, 250) (165233, 113)\n",
      "(0, 250) (0, 113)\n"
     ]
    }
   ],
   "source": [
    "rows_of_train = 250000\n",
    "rows_of_test = 75000\n",
    "\n",
    "Y = pd.get_dummies(dataset['Cat']).values\n",
    "print('Shape of label tensor:', Y.shape)\n",
    "\n",
    "X_train = X[0:rows_of_train]\n",
    "X_test = X[rows_of_train: rows_of_train + rows_of_test]\n",
    "\n",
    "Y_train = Y[0:rows_of_train]\n",
    "Y_test = Y[rows_of_train:rows_of_train + rows_of_test]\n",
    "\n",
    "print(X_train.shape,Y_train.shape)\n",
    "print(X_test.shape,Y_test.shape)"
   ]
  },
  {
   "cell_type": "markdown",
   "id": "ed8cb0c3",
   "metadata": {
    "pycharm": {
     "name": "#%% md\n"
    }
   },
   "source": [
    "## Classification"
   ]
  },
  {
   "cell_type": "code",
   "execution_count": 14,
   "outputs": [
    {
     "name": "stderr",
     "output_type": "stream",
     "text": [
      "2022-07-14 17:17:06.222668: W tensorflow/stream_executor/platform/default/dso_loader.cc:64] Could not load dynamic library 'libcuda.so.1'; dlerror: libcuda.so.1: cannot open shared object file: No such file or directory\n",
      "2022-07-14 17:17:06.222699: W tensorflow/stream_executor/cuda/cuda_driver.cc:269] failed call to cuInit: UNKNOWN ERROR (303)\n",
      "2022-07-14 17:17:06.222723: I tensorflow/stream_executor/cuda/cuda_diagnostics.cc:156] kernel driver does not appear to be running on this host (milad): /proc/driver/nvidia/version does not exist\n",
      "2022-07-14 17:17:06.223856: I tensorflow/core/platform/cpu_feature_guard.cc:193] This TensorFlow binary is optimized with oneAPI Deep Neural Network Library (oneDNN) to use the following CPU instructions in performance-critical operations:  AVX2 FMA\n",
      "To enable them in other operations, rebuild TensorFlow with the appropriate compiler flags.\n",
      "2022-07-14 17:17:06.252822: W tensorflow/core/framework/cpu_allocator_impl.cc:82] Allocation of 20000000 exceeds 10% of free system memory.\n",
      "2022-07-14 17:17:06.272072: W tensorflow/core/framework/cpu_allocator_impl.cc:82] Allocation of 20000000 exceeds 10% of free system memory.\n",
      "2022-07-14 17:17:06.278360: W tensorflow/core/framework/cpu_allocator_impl.cc:82] Allocation of 20000000 exceeds 10% of free system memory.\n"
     ]
    },
    {
     "name": "stdout",
     "output_type": "stream",
     "text": [
      "Model: \"sequential\"\n",
      "_________________________________________________________________\n",
      " Layer (type)                Output Shape              Param #   \n",
      "=================================================================\n",
      " embedding (Embedding)       (None, 250, 100)          5000000   \n",
      "                                                                 \n",
      " spatial_dropout1d (SpatialD  (None, 250, 100)         0         \n",
      " ropout1D)                                                       \n",
      "                                                                 \n",
      " lstm (LSTM)                 (None, 100)               80400     \n",
      "                                                                 \n",
      " dense (Dense)               (None, 113)               11413     \n",
      "                                                                 \n",
      "=================================================================\n",
      "Total params: 5,091,813\n",
      "Trainable params: 5,091,813\n",
      "Non-trainable params: 0\n",
      "_________________________________________________________________\n"
     ]
    },
    {
     "name": "stderr",
     "output_type": "stream",
     "text": [
      "2022-07-14 17:17:06.668610: W tensorflow/core/framework/cpu_allocator_impl.cc:82] Allocation of 165233000 exceeds 10% of free system memory.\n",
      "2022-07-14 17:17:06.838252: W tensorflow/core/framework/cpu_allocator_impl.cc:82] Allocation of 18671329 exceeds 10% of free system memory.\n"
     ]
    },
    {
     "name": "stdout",
     "output_type": "stream",
     "text": [
      "Epoch 1/3\n",
      "2582/2582 [==============================] - 799s 309ms/step - loss: 0.3403 - accuracy: 0.9374\n",
      "Epoch 2/3\n",
      "2582/2582 [==============================] - 754s 292ms/step - loss: 0.0192 - accuracy: 0.9961\n",
      "Epoch 3/3\n",
      "2582/2582 [==============================] - 909s 352ms/step - loss: 0.0140 - accuracy: 0.9964\n"
     ]
    }
   ],
   "source": [
    "model = Sequential()\n",
    "model.add(Embedding(MAX_NB_WORDS, EMBEDDING_DIM, input_length=X.shape[1]))\n",
    "model.add(SpatialDropout1D(0.2))\n",
    "model.add(LSTM(100, dropout=0.2, recurrent_dropout=0.2))\n",
    "model.add(Dense(113, activation='softmax'))\n",
    "model.compile(loss='categorical_crossentropy', optimizer='adam', metrics=['accuracy'])\n",
    "model.summary()\n",
    "\n",
    "epochs = 3\n",
    "batch_size = 64\n",
    "tensorboard_callback = tf.keras.callbacks.TensorBoard(log_dir=\"logs\")\n",
    "\n",
    "history = model.fit(X_train,Y_train,validation_data=(X_test,Y_test),epochs=epochs,batch_size=batch_size)"
   ],
   "metadata": {
    "collapsed": false,
    "pycharm": {
     "name": "#%%\n"
    }
   }
  },
  {
   "cell_type": "code",
   "execution_count": null,
   "outputs": [],
   "source": [],
   "metadata": {
    "collapsed": false,
    "pycharm": {
     "name": "#%%\n"
    }
   }
  }
 ],
 "metadata": {
  "kernelspec": {
   "display_name": "Python 3 (ipykernel)",
   "language": "python",
   "name": "python3"
  },
  "language_info": {
   "codemirror_mode": {
    "name": "ipython",
    "version": 3
   },
   "file_extension": ".py",
   "mimetype": "text/x-python",
   "name": "python",
   "nbconvert_exporter": "python",
   "pygments_lexer": "ipython3",
   "version": "3.10.4"
  }
 },
 "nbformat": 4,
 "nbformat_minor": 5
}